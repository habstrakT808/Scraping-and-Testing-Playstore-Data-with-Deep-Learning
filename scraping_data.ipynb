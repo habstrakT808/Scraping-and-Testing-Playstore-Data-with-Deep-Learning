{
  "nbformat": 4,
  "nbformat_minor": 0,
  "metadata": {
    "colab": {
      "provenance": [],
      "gpuType": "T4"
    },
    "kernelspec": {
      "name": "python3",
      "display_name": "Python 3"
    },
    "language_info": {
      "name": "python"
    },
    "accelerator": "GPU"
  },
  "cells": [
    {
      "cell_type": "markdown",
      "source": [
        "#**SCRAPING DATA GOOGLE PLAYSTORE**"
      ],
      "metadata": {
        "id": "22FKhTCQN0VY"
      }
    },
    {
      "cell_type": "markdown",
      "source": [
        "## Import Library yang Dibutuhkan"
      ],
      "metadata": {
        "id": "OI0SZGD5N6ka"
      }
    },
    {
      "cell_type": "code",
      "source": [
        "!pip install google-play-scraper"
      ],
      "metadata": {
        "colab": {
          "base_uri": "https://localhost:8080/"
        },
        "id": "-h4EaNOiOZa5",
        "outputId": "e9616940-b2a9-480d-fee8-2c215b637d21"
      },
      "execution_count": null,
      "outputs": [
        {
          "output_type": "stream",
          "name": "stdout",
          "text": [
            "Collecting google-play-scraper\n",
            "  Downloading google_play_scraper-1.2.7-py3-none-any.whl.metadata (50 kB)\n",
            "\u001b[?25l     \u001b[90m━━━━━━━━━━━━━━━━━━━━━━━━━━━━━━━━━━━━━━━━\u001b[0m \u001b[32m0.0/50.2 kB\u001b[0m \u001b[31m?\u001b[0m eta \u001b[36m-:--:--\u001b[0m\r\u001b[2K     \u001b[90m━━━━━━━━━━━━━━━━━━━━━━━━━━━━━━━━━━━━━━━━\u001b[0m \u001b[32m50.2/50.2 kB\u001b[0m \u001b[31m1.8 MB/s\u001b[0m eta \u001b[36m0:00:00\u001b[0m\n",
            "\u001b[?25hDownloading google_play_scraper-1.2.7-py3-none-any.whl (28 kB)\n",
            "Installing collected packages: google-play-scraper\n",
            "Successfully installed google-play-scraper-1.2.7\n"
          ]
        }
      ]
    },
    {
      "cell_type": "code",
      "execution_count": null,
      "metadata": {
        "id": "fdOk-5sFNfg9"
      },
      "outputs": [],
      "source": [
        "import pandas as pd\n",
        "import numpy as np\n",
        "import time\n",
        "import random\n",
        "from google_play_scraper import Sort, reviews, app"
      ]
    },
    {
      "cell_type": "markdown",
      "source": [
        "## Pilih Beberapa Aplikasi Populer untuk Diambil Reviewnya\n"
      ],
      "metadata": {
        "id": "jSansE31OfyT"
      }
    },
    {
      "cell_type": "code",
      "source": [
        "app_ids = [\n",
        "    'com.gojek.app',             # Gojek\n",
        "    'com.tokopedia.tkpd',        # Tokopedia\n",
        "    'com.shopee.id',             # Shopee\n",
        "    'com.instagram.android',     # Instagram\n",
        "    'com.whatsapp',              # WhatsApp\n",
        "    'com.netflix.mediaclient',   # Netflix\n",
        "    'com.spotify.music',         # Spotify\n",
        "    'com.bukalapak.android',     # Bukalapak\n",
        "    'com.traveloka.android',     # Traveloka\n",
        "    'com.grabtaxi.passenger'     # Grab\n",
        "]\n",
        "\n",
        "all_reviews = []"
      ],
      "metadata": {
        "id": "b2JzFF4COhlr"
      },
      "execution_count": null,
      "outputs": []
    },
    {
      "cell_type": "markdown",
      "source": [
        "## Scraping Untuk Setiap Aplikasi"
      ],
      "metadata": {
        "id": "GoNu3_9FOmYS"
      }
    },
    {
      "cell_type": "code",
      "source": [
        "# Scraping untuk setiap aplikasi\n",
        "for app_id in app_ids:\n",
        "    print(f\"Scraping reviews for {app_id}...\")\n",
        "\n",
        "    # Ambil informasi aplikasi\n",
        "    app_info = app(app_id)\n",
        "    app_name = app_info['title']\n",
        "\n",
        "    # Scraping review (maksimal 10.000)\n",
        "    try:\n",
        "        result, _ = reviews(\n",
        "            app_id,\n",
        "            lang='id',  # bahasa Indonesia\n",
        "            country='id',\n",
        "            sort=Sort.NEWEST,\n",
        "            count=10000  # Batasi hingga 10.000 review karena ram saya tidak cukup!\n",
        "        )\n",
        "\n",
        "        # Tambahkan nama aplikasi ke setiap review\n",
        "        for review in result:\n",
        "            review['app_name'] = app_name\n",
        "            review['app_id'] = app_id\n",
        "            all_reviews.append(review)\n",
        "\n",
        "        print(f\"Successfully scraped {len(result)} reviews for {app_name}\")\n",
        "\n",
        "        # Pause sebentar untuk menghindari rate limiting\n",
        "        time.sleep(random.uniform(2, 5))\n",
        "\n",
        "    except Exception as e:\n",
        "        print(f\"Error scraping {app_id}: {str(e)}\")"
      ],
      "metadata": {
        "colab": {
          "base_uri": "https://localhost:8080/"
        },
        "id": "PjrLs4Q0Onka",
        "outputId": "ce2668d0-99d9-47f9-e722-45f3012935a6"
      },
      "execution_count": null,
      "outputs": [
        {
          "output_type": "stream",
          "name": "stdout",
          "text": [
            "Scraping reviews for com.gojek.app...\n",
            "Successfully scraped 10000 reviews for Gojek - Food & Transportation\n",
            "Scraping reviews for com.tokopedia.tkpd...\n",
            "Successfully scraped 10000 reviews for Tokopedia\n",
            "Scraping reviews for com.shopee.id...\n",
            "Successfully scraped 10000 reviews for Shopee\n",
            "Scraping reviews for com.instagram.android...\n",
            "Successfully scraped 10000 reviews for Instagram\n",
            "Scraping reviews for com.whatsapp...\n",
            "Successfully scraped 10000 reviews for WhatsApp Messenger\n",
            "Scraping reviews for com.netflix.mediaclient...\n",
            "Successfully scraped 10000 reviews for Netflix\n",
            "Scraping reviews for com.spotify.music...\n",
            "Successfully scraped 10000 reviews for Spotify: Music and Podcasts\n",
            "Scraping reviews for com.bukalapak.android...\n",
            "Successfully scraped 10000 reviews for Bukalapak\n",
            "Scraping reviews for com.traveloka.android...\n",
            "Successfully scraped 10000 reviews for Traveloka: Book Hotel & Flight\n",
            "Scraping reviews for com.grabtaxi.passenger...\n",
            "Successfully scraped 10000 reviews for Grab - Taxi & Food Delivery\n"
          ]
        }
      ]
    },
    {
      "cell_type": "markdown",
      "source": [
        "## Dataframe\n"
      ],
      "metadata": {
        "id": "vQa2wRUGjJat"
      }
    },
    {
      "cell_type": "code",
      "source": [
        "# Buat DataFrame\n",
        "df_reviews = pd.DataFrame(all_reviews)"
      ],
      "metadata": {
        "id": "oLIYDE9ujLMk"
      },
      "execution_count": null,
      "outputs": []
    },
    {
      "cell_type": "markdown",
      "source": [
        "## Simpan Hasil Scraping"
      ],
      "metadata": {
        "id": "SPQCX5FEjNHT"
      }
    },
    {
      "cell_type": "code",
      "source": [
        "# Simpan data\n",
        "df_reviews.to_csv('playstore_reviews.csv', index=False)\n",
        "df_reviews.to_json('playstore_reviews.json', orient='records')\n",
        "\n",
        "print(f\"Total reviews collected: {len(df_reviews)}\")\n",
        "print(\"Data saved to playstore_reviews.csv and playstore_reviews.json\")"
      ],
      "metadata": {
        "colab": {
          "base_uri": "https://localhost:8080/"
        },
        "id": "YisI3DDxjRxd",
        "outputId": "af7e04cb-9a86-41c8-9751-d0f39940b77a"
      },
      "execution_count": null,
      "outputs": [
        {
          "output_type": "stream",
          "name": "stdout",
          "text": [
            "Total reviews collected: 100000\n",
            "Data saved to playstore_reviews.csv and playstore_reviews.json\n"
          ]
        }
      ]
    }
  ]
}